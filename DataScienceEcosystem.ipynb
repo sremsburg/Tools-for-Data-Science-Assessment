{
 "cells": [
  {
   "cell_type": "markdown",
   "id": "49c55b2d-6ca2-41e1-8507-2a1e5abd396d",
   "metadata": {},
   "source": [
    "# Data Science Tools and Ecosystem"
   ]
  },
  {
   "cell_type": "markdown",
   "id": "598bdd81-ba5d-4d10-b767-80ea530f72f1",
   "metadata": {},
   "source": [
    "In this notebook, Data Science Tools and Ecosystem are summarized."
   ]
  },
  {
   "cell_type": "markdown",
   "id": "fc08e25d-6706-4167-ba5f-43a59f003367",
   "metadata": {},
   "source": [
    "**Objectives**\n",
    "- Create and rename a Jupyter Notebook\n",
    "- Create a markdown cell\n",
    "- Insert a markdown cell\n",
    "- Creating and executing a code cell\n"
   ]
  },
  {
   "cell_type": "markdown",
   "id": "8ced980e-a28f-4147-bb82-594491b01350",
   "metadata": {},
   "source": [
    "Some of the popular languages that Data Scientists use are:\n",
    "1. Python\n",
    "2. R\n",
    "3. SQL\n",
    "4. Java"
   ]
  },
  {
   "cell_type": "markdown",
   "id": "47d4c27a-2c80-4766-b5e7-71ae3883f42a",
   "metadata": {},
   "source": [
    "Some of the commonly used libraries used by Data Scientists include:\n",
    "1. Pandas\n",
    "2. NumPy\n",
    "3. Matplotlib\n",
    "4. Seaborn\n",
    "5. SciKit Learn"
   ]
  },
  {
   "cell_type": "markdown",
   "id": "85d533d3-da63-47b8-b6a8-733b57c4fe4e",
   "metadata": {},
   "source": [
    "|Data Science Tools|\n",
    "|------------------|\n",
    "|Apache Airflow|\n",
    "|Hadoop File System|\n",
    "|TensorFlow|"
   ]
  },
  {
   "cell_type": "markdown",
   "id": "6f7c1d92-684b-4e97-9bfe-ace0c3c903f7",
   "metadata": {},
   "source": [
    "### Below are a few examples of evaluating arithmetic expression in Python"
   ]
  },
  {
   "cell_type": "code",
   "execution_count": 4,
   "id": "87dada64-4454-44d6-b62d-c80db0c1ac95",
   "metadata": {},
   "outputs": [
    {
     "data": {
      "text/plain": [
       "17"
      ]
     },
     "execution_count": 4,
     "metadata": {},
     "output_type": "execute_result"
    }
   ],
   "source": [
    " #this is a simple arithmetic expression to multiple then add integers\n",
    "(3*4)+5"
   ]
  },
  {
   "cell_type": "code",
   "execution_count": 5,
   "id": "53bcde37-1908-4073-9588-a495752c4c5d",
   "metadata": {},
   "outputs": [
    {
     "data": {
      "text/plain": [
       "3.3333333333333335"
      ]
     },
     "execution_count": 5,
     "metadata": {},
     "output_type": "execute_result"
    }
   ],
   "source": [
    "#This will convert 200 minutes to hours by dividing by 60\n",
    "200/60"
   ]
  },
  {
   "cell_type": "markdown",
   "id": "ea22cd37-6629-496f-947f-1fcb59e204db",
   "metadata": {},
   "source": [
    "## Author\n",
    "Sarah Remsburg"
   ]
  },
  {
   "cell_type": "code",
   "execution_count": null,
   "id": "f17f7098-2644-4031-8977-69bae6ff622c",
   "metadata": {},
   "outputs": [],
   "source": []
  }
 ],
 "metadata": {
  "kernelspec": {
   "display_name": "Python 3 (ipykernel)",
   "language": "python",
   "name": "python3"
  },
  "language_info": {
   "codemirror_mode": {
    "name": "ipython",
    "version": 3
   },
   "file_extension": ".py",
   "mimetype": "text/x-python",
   "name": "python",
   "nbconvert_exporter": "python",
   "pygments_lexer": "ipython3",
   "version": "3.11.7"
  }
 },
 "nbformat": 4,
 "nbformat_minor": 5
}
